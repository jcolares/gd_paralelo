{
 "cells": [
  {
   "cell_type": "code",
   "execution_count": 48,
   "metadata": {},
   "outputs": [],
   "source": [
    "import numpy as np\n",
    "import pandas as pd\n",
    "import matplotlib.pyplot as plt"
   ]
  },
  {
   "cell_type": "code",
   "execution_count": 33,
   "metadata": {},
   "outputs": [],
   "source": [
    "def z_func(X,w):\n",
    "    # x0w0 + x1w1**1 + x2w2**2 + x3w3**3 + ... + xnwn**n\n",
    "    w_exp = np.arange(0,len(w))\n",
    "    w_pow = w ** w_exp\n",
    "    h = X.dot(w.T)\n",
    "    return h"
   ]
  },
  {
   "cell_type": "code",
   "execution_count": 46,
   "metadata": {},
   "outputs": [],
   "source": [
    "#error function (MSE)\n",
    "def compute_cost(X, y, w):\n",
    "    y_hat = z_func(X,w) \n",
    "    j = np.sum((y_hat - y)**2, axis=0) / len(y_hat)\n",
    "    return(j)"
   ]
  },
  {
   "cell_type": "code",
   "execution_count": 64,
   "metadata": {},
   "outputs": [],
   "source": [
    "#gradient descent\n",
    "def gradient_descent(X, y, w, epochs, lr):\n",
    "    w_hist = []\n",
    "    cost_hist = np.zeros(epochs)\n",
    "    for i in range(epochs):\n",
    "        w = w - lr/len(y) * X.T.dot((z_func(X, w) - y))  \n",
    "        cost = compute_cost(X, y, w)\n",
    "        #w_hist[i] = w\n",
    "        cost_hist[i] = cost\n",
    "    #return w, cost, w_hist, cost_hist\n",
    "    return w, cost, cost_hist\n"
   ]
  },
  {
   "cell_type": "code",
   "execution_count": 55,
   "metadata": {},
   "outputs": [],
   "source": [
    "#Carregar dados \n",
    "df = pd.read_csv('diamond_prices.csv', header=0)\n",
    "\n",
    "# Normalizar dados\n",
    "df = (df - df.mean()) / (df.max() - df.min())\n",
    "\n",
    "# Selecionar features e labels\n",
    "X = df[['carat', 'cut_code', 'color_code']]\n",
    "y = df[['price']]\n"
   ]
  },
  {
   "cell_type": "code",
   "execution_count": 56,
   "metadata": {},
   "outputs": [],
   "source": [
    "# Preparar conjuntos de treinamento e teste\n",
    "mask = np.random.rand(len(df)) < 0.8\n",
    "X_train = np.array(X[mask])\n",
    "X_test = np.array(X[~mask])\n",
    "y_train = np.array(y[mask])[:,0]\n",
    "y_test = np.array(y[~mask])[:,0]\n",
    "\n",
    "# Inicializar vetor de parâmetros \n",
    "w = np.ones(np.size(X_train,1))"
   ]
  },
  {
   "cell_type": "code",
   "execution_count": 57,
   "metadata": {},
   "outputs": [
    {
     "data": {
      "text/plain": [
       "0.18294300277780653"
      ]
     },
     "execution_count": 57,
     "metadata": {},
     "output_type": "execute_result"
    }
   ],
   "source": [
    "compute_cost(X_train,y_train,w)"
   ]
  },
  {
   "cell_type": "code",
   "execution_count": 68,
   "metadata": {},
   "outputs": [],
   "source": [
    "epochs = 100\n",
    "lr = 0.1"
   ]
  },
  {
   "cell_type": "code",
   "execution_count": 72,
   "metadata": {},
   "outputs": [],
   "source": [
    "#w, cost, w_hist, cost_hist = gradient_descent(X_train, y_train, w, epochs, lr)"
   ]
  },
  {
   "cell_type": "code",
   "execution_count": 69,
   "metadata": {},
   "outputs": [],
   "source": [
    "w, cost, cost_hist = gradient_descent(X_train, y_train, w, epochs, lr)"
   ]
  },
  {
   "cell_type": "code",
   "execution_count": 70,
   "metadata": {},
   "outputs": [
    {
     "data": {
      "text/plain": [
       "array([1.18480182, 0.42075648, 0.39332706])"
      ]
     },
     "execution_count": 70,
     "metadata": {},
     "output_type": "execute_result"
    }
   ],
   "source": [
    "w"
   ]
  },
  {
   "cell_type": "code",
   "execution_count": 71,
   "metadata": {},
   "outputs": [
    {
     "data": {
      "text/plain": [
       "array([0.15492614, 0.15261219, 0.15033582, 0.14809642, 0.14589338,\n",
       "       0.14372611, 0.14159403, 0.13949656, 0.13743313, 0.1354032 ,\n",
       "       0.13340622, 0.13144164, 0.12950894, 0.1276076 , 0.1257371 ,\n",
       "       0.12389695, 0.12208665, 0.12030571, 0.11855365, 0.11683   ,\n",
       "       0.11513431, 0.1134661 , 0.11182494, 0.11021038, 0.10862199,\n",
       "       0.10705933, 0.10552201, 0.10400958, 0.10252167, 0.10105785,\n",
       "       0.09961774, 0.09820096, 0.09680711, 0.09543584, 0.09408676,\n",
       "       0.09275952, 0.09145377, 0.09016914, 0.0889053 , 0.08766191,\n",
       "       0.08643863, 0.08523514, 0.08405111, 0.08288623, 0.08174018,\n",
       "       0.08061265, 0.07950335, 0.07841198, 0.07733824, 0.07628185,\n",
       "       0.07524252, 0.07421998, 0.07321395, 0.07222417, 0.07125036,\n",
       "       0.07029227, 0.06934964, 0.06842222, 0.06750976, 0.06661202,\n",
       "       0.06572875, 0.06485973, 0.06400472, 0.06316349, 0.06233581,\n",
       "       0.06152147, 0.06072024, 0.05993192, 0.0591563 , 0.05839316,\n",
       "       0.0576423 , 0.05690353, 0.05617664, 0.05546144, 0.05475775,\n",
       "       0.05406537, 0.05338412, 0.05271382, 0.05205429, 0.05140535,\n",
       "       0.05076684, 0.05013858, 0.0495204 , 0.04891214, 0.04831365,\n",
       "       0.04772475, 0.0471453 , 0.04657513, 0.04601411, 0.04546207,\n",
       "       0.04491888, 0.04438439, 0.04385845, 0.04334093, 0.04283169,\n",
       "       0.0423306 , 0.04183752, 0.04135233, 0.04087489, 0.04040508])"
      ]
     },
     "execution_count": 71,
     "metadata": {},
     "output_type": "execute_result"
    }
   ],
   "source": [
    "cost_hist"
   ]
  },
  {
   "cell_type": "code",
   "execution_count": null,
   "metadata": {},
   "outputs": [],
   "source": []
  }
 ],
 "metadata": {
  "kernelspec": {
   "display_name": "Python 3",
   "language": "python",
   "name": "python3"
  },
  "language_info": {
   "codemirror_mode": {
    "name": "ipython",
    "version": 3
   },
   "file_extension": ".py",
   "mimetype": "text/x-python",
   "name": "python",
   "nbconvert_exporter": "python",
   "pygments_lexer": "ipython3",
   "version": "3.6.5"
  }
 },
 "nbformat": 4,
 "nbformat_minor": 2
}
